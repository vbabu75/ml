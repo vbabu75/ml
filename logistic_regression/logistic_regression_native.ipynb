{
 "cells": [
  {
   "cell_type": "markdown",
   "metadata": {},
   "source": [
    "# Logistic Regression\n",
    "## Introduction\n",
    "This notebook is intended to step through the logistic regression algorithm development. The base version is python form of octave material from Andrew Ng."
   ]
  },
  {
   "cell_type": "markdown",
   "metadata": {},
   "source": [
    "## Data description and objective\n",
    "The problem is related to University admission. Given test results of two tests, we want to predict the probability of admission call from the university. We have prior results to help us with the prediction.\n",
    "There are two features - results from two test scores and the target value is whether the student was admitted."
   ]
  },
  {
   "cell_type": "code",
   "execution_count": 1,
   "metadata": {
    "collapsed": true
   },
   "outputs": [],
   "source": [
    "import numpy as np\n",
    "import pandas as pd\n",
    "import matplotlib.pyplot as plt"
   ]
  },
  {
   "cell_type": "code",
   "execution_count": 52,
   "metadata": {},
   "outputs": [
    {
     "name": "stdout",
     "output_type": "stream",
     "text": [
      "Sample Features\n",
      " [[ 34.62365962  78.02469282]\n",
      " [ 30.28671077  43.89499752]\n",
      " [ 35.84740877  72.90219803]\n",
      " [ 60.18259939  86.3085521 ]\n",
      " [ 79.03273605  75.34437644]]\n",
      "Sample Target\n",
      " [ 0.  0.  0.  1.  1.]\n",
      "Number of samples\n",
      " 100\n"
     ]
    }
   ],
   "source": [
    "df = pd.read_csv('ex2data1.txt',header=None)\n",
    "X_orig = df.values[:,:2]\n",
    "y_orig = df.values[:,2]\n",
    "m = len(y_orig)\n",
    "X = np.c_[np.ones(m),X_orig] #Add X0 feature vector for ease of vector calc.\n",
    "print(\"Sample Features\\n\",X_orig[:5,:])\n",
    "print(\"Sample Target\\n\",y_orig[:5])\n",
    "print(\"Number of samples\\n\",m)"
   ]
  },
  {
   "cell_type": "markdown",
   "metadata": {},
   "source": [
    "Let us plot to data to see the way it is distributed."
   ]
  },
  {
   "cell_type": "code",
   "execution_count": 53,
   "metadata": {},
   "outputs": [
    {
     "data": {
      "image/png": "[encoded data removed]",
      "text/plain": [
       "<matplotlib.figure.Figure at 0x11978e2e8>"
      ]
     },
     "metadata": {},
     "output_type": "display_data"
    }
   ],
   "source": [
    "def draw_data():\n",
    "    selected_index = (y_orig==1)\n",
    "    rejected_index = (y_orig!=1)\n",
    "    plt.scatter(X_orig[selected_index,0],X_orig[selected_index,1],marker='o',label='Selected')\n",
    "    plt.scatter(X_orig[rejected_index,0],X_orig[rejected_index,1],marker='x',label='Rejected')\n",
    "    plt.legend()\n",
    "    plt.xlabel(\"Test 1 Score\")\n",
    "    plt.ylabel(\"Test 2 Score\")\n",
    "draw_data()\n",
    "plt.show()"
   ]
  },
  {
   "cell_type": "markdown",
   "metadata": {},
   "source": [
    "## Cost function and gradient\n",
    "Let us write a logistic cost function and a gradient for that function."
   ]
  },
  {
   "cell_type": "code",
   "execution_count": 76,
   "metadata": {},
   "outputs": [
    {
     "name": "stdout",
     "output_type": "stream",
     "text": [
      "0.218330193827 [ 0.04290299  2.56623412  2.64679737]\n"
     ]
    }
   ],
   "source": [
    "def sigmoid(X):\n",
    "    return(1/(1+np.exp(0-X)))\n",
    "\n",
    "def cost_and_gradient(X,y,theta):\n",
    "    m = len(y)\n",
    "    n = len(theta)\n",
    "    J = 0\n",
    "    grad = np.zeros(n)\n",
    "    z = np.dot(X,theta)\n",
    "    hyp = sigmoid(z)\n",
    "    \n",
    "    t1 = -(np.dot(y,np.log(hyp)))\n",
    "    t2 = -(np.dot((1-y),np.log(1-hyp)))\n",
    "    J = (t1+t2)/m\n",
    "    grad = (np.dot((hyp-y).T,X)/m)\n",
    "    return J,grad\n",
    "\n",
    "test_theta=np.array([-24,0.2,0.2])\n",
    "cost,grad = cost_and_gradient(X,y_orig,test_theta)\n",
    "print(cost,grad) # Should be around .218 and [.043,2.56,2.64]"
   ]
  },
  {
   "cell_type": "code",
   "execution_count": 87,
   "metadata": {},
   "outputs": [
    {
     "name": "stderr",
     "output_type": "stream",
     "text": [
      "/Users/venkatesh/anaconda/lib/python3.6/site-packages/ipykernel_launcher.py:2: RuntimeWarning: divide by zero encountered in log\n",
      "  \n"
     ]
    },
    {
     "data": {
      "image/png": "[encoded data removed]",
      "text/plain": [
       "<matplotlib.figure.Figure at 0x119379710>"
      ]
     },
     "metadata": {},
     "output_type": "display_data"
    }
   ],
   "source": [
    "px = np.linspace(0,1,100)\n",
    "py = -np.log(1-px)\n",
    "plt.plot(px,py)\n",
    "plt.show()"
   ]
  },
  {
   "cell_type": "code",
   "execution_count": 74,
   "metadata": {},
   "outputs": [
    {
     "data": {
      "text/plain": [
       "0.21833019382659785"
      ]
     },
     "execution_count": 74,
     "metadata": {},
     "output_type": "execute_result"
    }
   ],
   "source": [
    "cost"
   ]
  },
  {
   "cell_type": "code",
   "execution_count": 75,
   "metadata": {},
   "outputs": [
    {
     "data": {
      "text/plain": [
       "array([ 0.04290299,  2.56623412,  2.64679737])"
      ]
     },
     "execution_count": 75,
     "metadata": {},
     "output_type": "execute_result"
    }
   ],
   "source": [
    "grad"
   ]
  },
  {
   "cell_type": "code",
   "execution_count": null,
   "metadata": {
    "collapsed": true
   },
   "outputs": [],
   "source": []
  }
 ],
 "metadata": {
  "kernelspec": {
   "display_name": "Python 3",
   "language": "python",
   "name": "python3"
  },
  "language_info": {
   "codemirror_mode": {
    "name": "ipython",
    "version": 3
   },
   "file_extension": ".py",
   "mimetype": "text/x-python",
   "name": "python",
   "nbconvert_exporter": "python",
   "pygments_lexer": "ipython3",
   "version": "3.6.1"
  }
 },
 "nbformat": 4,
 "nbformat_minor": 2
}
