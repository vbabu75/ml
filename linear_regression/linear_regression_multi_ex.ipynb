{
 "cells": [
  {
   "cell_type": "markdown",
   "metadata": {},
   "source": [
    "# Introduction\n",
    "In this task we will look at predicting house prices given square foot and number of bedrooms as features. For this purpose, we will use multi-variate linear regression. The base version of this notebook is a python implementation of Andrew's exercise.\n",
    "## Introduction to data\n",
    "The data consists of two features(square feet area of house and number of rooms) and the target is the price of the house."
   ]
  },
  {
   "cell_type": "code",
   "execution_count": 1,
   "metadata": {
    "collapsed": true
   },
   "outputs": [],
   "source": [
    "import numpy as np\n",
    "import matplotlib.pyplot as plt\n",
    "import pandas as pd"
   ]
  },
  {
   "cell_type": "code",
   "execution_count": 2,
   "metadata": {},
   "outputs": [
    {
     "name": "stdout",
     "output_type": "stream",
     "text": [
      "[[2104    3]\n",
      " [1600    3]\n",
      " [2400    3]\n",
      " [1416    2]\n",
      " [3000    4]]\n",
      "[399900 329900 369000 232000 539900]\n",
      "47\n"
     ]
    }
   ],
   "source": [
    "frame = pd.read_csv('ex1data2.txt',header=None)\n",
    "X_orig = frame.values[:,:2]\n",
    "y_orig = frame.values[:,-1]\n",
    "m = len(y_orig)\n",
    "print(X_orig[:5])\n",
    "print(y_orig[:5])\n",
    "print(m)"
   ]
  },
  {
   "cell_type": "markdown",
   "metadata": {},
   "source": [
    "Since the features are of different ranges, let us normalize the features. Also let us add a X0 feature to the dataset with value 1. These will be used to make vector calculation simpler."
   ]
  },
  {
   "cell_type": "code",
   "execution_count": 3,
   "metadata": {},
   "outputs": [
    {
     "name": "stdout",
     "output_type": "stream",
     "text": [
      "[[ 1.          0.13141542 -0.22609337]\n",
      " [ 1.         -0.5096407  -0.22609337]\n",
      " [ 1.          0.5079087  -0.22609337]\n",
      " [ 1.         -0.74367706 -1.5543919 ]\n",
      " [ 1.          1.27107075  1.10220517]]\n"
     ]
    }
   ],
   "source": [
    "def feature_normalize(X):\n",
    "    m = X.shape[0]\n",
    "    n = X.shape[1]\n",
    "    norm_X = np.zeros((m,n))\n",
    "    mu = np.zeros(n)\n",
    "    std_dev = np.zeros(n)\n",
    "    for i in range(n):\n",
    "        mu[i] = X[:,i].mean()\n",
    "        std_dev[i] = X[:,i].std()\n",
    "        norm_X[:,i] = (X[:,i]-mu[i])/std_dev[i]\n",
    "    return (norm_X,mu,std_dev)\n",
    "X,mu,sigma = feature_normalize(X_orig)\n",
    "X = np.c_[np.ones(m),X]\n",
    "print(X[:5,:])"
   ]
  },
  {
   "cell_type": "markdown",
   "metadata": {},
   "source": [
    "# Multivariate linear regression\n",
    "First let us run gradient descent on this data and see how the program learns by plotting the cost as each step of descent progresses"
   ]
  },
  {
   "cell_type": "code",
   "execution_count": 4,
   "metadata": {},
   "outputs": [
    {
     "data": {
      "image/png": "[encoded data removed]",
      "text/plain": [
       "<matplotlib.figure.Figure at 0x1100ff390>"
      ]
     },
     "metadata": {},
     "output_type": "display_data"
    }
   ],
   "source": [
    "def compute_cost_multi(X,y,theta):\n",
    "    m = len(y)\n",
    "    return sum((np.dot(X,theta)-y)**2)/(2*m)\n",
    "def gradient_descent_multi(X,y,theta,alpha,num_iters):\n",
    "    m = len(y)\n",
    "    J_history = np.zeros(num_iters)\n",
    "    for i in range(num_iters):\n",
    "        theta = theta - (alpha/m)*(np.dot(X.T,(np.dot(X,theta)-y)))\n",
    "        J_history[i] = compute_cost_multi(X,y,theta)\n",
    "    return (theta,J_history)\n",
    "alpha = 0.01\n",
    "num_iters = 5000\n",
    "theta = np.zeros(X.shape[1])\n",
    "theta,J_history = gradient_descent_multi(X,y_orig,theta,alpha,num_iters)\n",
    "plt.plot(np.array(range(num_iters)),J_history)\n",
    "plt.xlabel('Number of Iterations')\n",
    "plt.ylabel('Cost')\n",
    "plt.show()"
   ]
  },
  {
   "cell_type": "markdown",
   "metadata": {},
   "source": [
    "Let us predict the cost of a house that is 1650 sq feet with three rooms."
   ]
  },
  {
   "cell_type": "code",
   "execution_count": 5,
   "metadata": {},
   "outputs": [
    {
     "name": "stdout",
     "output_type": "stream",
     "text": [
      "293081.464338\n"
     ]
    }
   ],
   "source": [
    "targetX = [1,(1650-mu[0])/sigma[0],(3-mu[1])/sigma[1]]\n",
    "price = np.dot(targetX,theta)\n",
    "print(price)"
   ]
  },
  {
   "cell_type": "markdown",
   "metadata": {},
   "source": [
    "## Using the normal equation\n",
    "Now instead of gradient descent, let us use normal equation to do the prediction."
   ]
  },
  {
   "cell_type": "code",
   "execution_count": 6,
   "metadata": {},
   "outputs": [
    {
     "name": "stdout",
     "output_type": "stream",
     "text": [
      "293081.464338\n"
     ]
    }
   ],
   "source": [
    "import numpy.linalg\n",
    "def lin_reg_normal_equation(X,y):\n",
    "    return np.dot(numpy.linalg.inv(np.dot(X.T,X)),np.dot(X.T,y))\n",
    "ntheta = lin_reg_normal_equation(X,y_orig)\n",
    "nprice = np.dot(targetX,ntheta)\n",
    "print(price)"
   ]
  },
  {
   "cell_type": "code",
   "execution_count": null,
   "metadata": {
    "collapsed": true
   },
   "outputs": [],
   "source": []
  }
 ],
 "metadata": {
  "kernelspec": {
   "display_name": "Python 3",
   "language": "python",
   "name": "python3"
  },
  "language_info": {
   "codemirror_mode": {
    "name": "ipython",
    "version": 3
   },
   "file_extension": ".py",
   "mimetype": "text/x-python",
   "name": "python",
   "nbconvert_exporter": "python",
   "pygments_lexer": "ipython3",
   "version": "3.6.1"
  }
 },
 "nbformat": 4,
 "nbformat_minor": 2
}
